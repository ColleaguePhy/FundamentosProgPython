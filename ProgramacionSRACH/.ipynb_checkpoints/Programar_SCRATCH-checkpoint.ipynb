{
 "cells": [
  {
   "cell_type": "markdown",
   "metadata": {},
   "source": [
    "### Fundamentos de programación\n",
    "\n",
    "* ¿Para que programar?\n",
    "* ¿Cómo se define un problema?\n",
    "* ¿Cómo apartir de un problema se construye un programa para resolverlo?\n",
    "* ¿De qué esta conformado un programa?\n",
    "* ¿Cómo se construyen sus partes?"
   ]
  },
  {
   "cell_type": "markdown",
   "metadata": {},
   "source": [
    "### Ejemplos en SCRATCH \n",
    "Enlace: https://scratch.mit.edu/\n",
    "\n",
    "1. Diseñe una rutina para girar a la manzana (calles de 100 pasos). Recuerde que el robot debe terminar en el mismo punto y dirección de partida.\n",
    "<center><img src=\"Imagenes/1.png\" width=10%></center>"
   ]
  },
  {
   "cell_type": "markdown",
   "metadata": {},
   "source": [
    "2. Diseñe una rutina para girar a la manzana (calles de 100 pasos). Recuerde que el robot debe terminar en el mismo punto y dirección de partida.\n",
    "<center><img src=\"Imagenes/2.png\" width=10%></center>"
   ]
  },
  {
   "cell_type": "markdown",
   "metadata": {},
   "source": [
    "3. Diseñe una rutina para dibujar un estrella de cinco puntas (lados de 100 pasos). Recuerde que el robot debe terminar en el mismo punto y dirección de partida.\n",
    "<center><img src=\"Imagenes/3.png\" width=13%></center>"
   ]
  },
  {
   "cell_type": "markdown",
   "metadata": {},
   "source": [
    "4. Diseñe una rutina para dibujar dos cuadrados (lados de 100 pasos) uno separado del otro 100 pasos. Recuerde que el robot debe terminar en el mismo punto y dirección de partida.\n",
    "<center><img src=\"Imagenes/4.png\" width=20%></center>"
   ]
  },
  {
   "cell_type": "markdown",
   "metadata": {},
   "source": [
    "5. Diseñe una rutina para dibujar una “flor”. Recuerde que el robot debe terminar en el mismo punto y dirección de partida.\n",
    "<center><img src=\"Imagenes/5.png\" width=15%></center>"
   ]
  },
  {
   "cell_type": "markdown",
   "metadata": {},
   "source": [
    "### Ejercicio en SCRATCH\n",
    "El usuario deberá ingresar el número de horas trabajadas y el valor por cada hora. Considere en los cálculos el descuento de seguridad social 8% sobre el total de ingresos y una bonificación del 2% del sueldo inicial a percibir si es menor que medio Salario Mínimo Mensual Legal Vigente ($877,803.00)."
   ]
  },
  {
   "cell_type": "code",
   "execution_count": null,
   "metadata": {},
   "outputs": [],
   "source": []
  }
 ],
 "metadata": {
  "kernelspec": {
   "display_name": "Python 3",
   "language": "python",
   "name": "python3"
  },
  "language_info": {
   "codemirror_mode": {
    "name": "ipython",
    "version": 3
   },
   "file_extension": ".py",
   "mimetype": "text/x-python",
   "name": "python",
   "nbconvert_exporter": "python",
   "pygments_lexer": "ipython3",
   "version": "3.8.3"
  }
 },
 "nbformat": 4,
 "nbformat_minor": 4
}
