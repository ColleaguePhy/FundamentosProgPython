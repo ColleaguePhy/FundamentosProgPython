{
 "cells": [
  {
   "cell_type": "markdown",
   "metadata": {},
   "source": [
    "### Bases\n",
    "* Variables\n",
    "* Tipos de datos\n",
    "* Operadores lógicos\n",
    "* Operadores aritméticos \n",
    "* Operadores de asignación\n",
    "* Operadores relacionales"
   ]
  },
  {
   "cell_type": "markdown",
   "metadata": {},
   "source": [
    "### Variables\n",
    "Nombre que se refiere a un objeto que reside en la memoria. Poseen un nombre único (identificador).\n",
    "\n",
    "*Nota:* las variables no pueden llevar el nombre de una de las palabras reservadas del lenguaje."
   ]
  },
  {
   "cell_type": "markdown",
   "metadata": {},
   "source": [
    "### Tipos de datos \n",
    "* **Mutables:** su contenido puede modificarse durante la ejecución.\n",
    "* **Inmutables:** su contenido no puede modificarse durante la ejecución\n",
    "\n",
    "| Categoria | Nombre | Descripción |\n",
    "|-----------|--------|-------------|\n",
    "| Números inmutables | *int* | entero |\n",
    "| Números inmutables | *long* | enteros limirados al espacio de almacenamiento en memoria |  \n",
    "| Números inmutables | *float* | números con decimales | \n",
    "| Números inmutables | *complex* | números complejos |\n",
    "| Números inmutables | *bool* | booleanos |\n",
    "| Secuencias inmutables | *str* | cadena de caracteres |\n",
    "| Secuencias inmutables | *unicode* | cadena de caracteres unicode |\n",
    "| Secuencias inmutables | *tuple* | tupla |\n",
    "| Secuencias inmutables | *xrange* | rango inmutable |\n",
    "| Secuencias mutables | *list* | lista |\n",
    "| Secuencias mutables | *range* | rango mutable |\n",
    "| mapeo | *dict* | diccionario | \n",
    "| conjuntos mutables | *set* | conjunto mutable |\n",
    "| conjuntos inmutables | *frozenset* |conjunto inmutable |"
   ]
  },
  {
   "cell_type": "markdown",
   "metadata": {},
   "source": [
    "### Operadores lógicos\n",
    "Permiten operar variables booleanas (True, False)"
   ]
  },
  {
   "cell_type": "markdown",
   "metadata": {},
   "source": [
    "* or $\\rightarrow$ verdadero cuando cualquiera de las dos variables lo es.\n",
    "* and $\\rightarrow$ verdadero solo cuando las dos variables lo son.\n",
    "* not $\\rightarrow$ invierte el valor de la variable."
   ]
  },
  {
   "cell_type": "markdown",
   "metadata": {},
   "source": [
    "#### Tablas de verdad\n",
    "\n",
    "##### Or"
   ]
  },
  {
   "cell_type": "code",
   "execution_count": 7,
   "metadata": {},
   "outputs": [
    {
     "name": "stdout",
     "output_type": "stream",
     "text": [
      "x\ty\tx or y\n",
      "----------------------\n",
      "False\tFalse\tFalse\n",
      "False\tTrue\tTrue\n",
      "True\tFalse\tTrue\n",
      "True\tTrue\tTrue\n"
     ]
    }
   ],
   "source": [
    "# Tabla de verdad de or\n",
    "booleanos = [False,True]\n",
    "print('x\\ty\\tx or y')\n",
    "print('-'*22)\n",
    "for x in booleanos:\n",
    "    for y in booleanos:\n",
    "        print(x, y, x or y, sep = '\\t')"
   ]
  },
  {
   "cell_type": "markdown",
   "metadata": {},
   "source": [
    "##### And"
   ]
  },
  {
   "cell_type": "code",
   "execution_count": 8,
   "metadata": {},
   "outputs": [
    {
     "name": "stdout",
     "output_type": "stream",
     "text": [
      "x\ty\tx and y\n",
      "----------------------\n",
      "False\tFalse\tFalse\n",
      "False\tTrue\tFalse\n",
      "True\tFalse\tFalse\n",
      "True\tTrue\tTrue\n"
     ]
    }
   ],
   "source": [
    "print('x\\ty\\tx and y')\n",
    "print('-'*22)\n",
    "for x in booleanos:\n",
    "    for y in booleanos:\n",
    "        print(x, y, x and y, sep = '\\t')m"
   ]
  },
  {
   "cell_type": "markdown",
   "metadata": {},
   "source": [
    "##### Not"
   ]
  },
  {
   "cell_type": "code",
   "execution_count": 9,
   "metadata": {},
   "outputs": [
    {
     "name": "stdout",
     "output_type": "stream",
     "text": [
      "x\tnot x\n",
      "-------------\n",
      "False\tTrue\n",
      "True\tFalse\n"
     ]
    }
   ],
   "source": [
    "print('x\\tnot x')\n",
    "print('-'*13)\n",
    "for x in booleanos:\n",
    "    print(x, not x, sep = '\\t')"
   ]
  },
  {
   "cell_type": "markdown",
   "metadata": {},
   "source": [
    "### Operadores Aritméticos\n",
    "Nos permiten hacer operaciones entre números\n",
    "\n",
    "| Operación | Resultado       |\n",
    "| --------- | --------------- |\n",
    "|    +      | Suma            |\n",
    "|    -      | Resta           |\n",
    "|    *      | Multiplicación  |\n",
    "|    /      | División        |\n",
    "|    //     | División entera |\n",
    "|    \\*\\*   | Potencia        |\n",
    "|    %      | Modulo          |"
   ]
  },
  {
   "cell_type": "markdown",
   "metadata": {},
   "source": [
    "### Operadores de asignación\n",
    "\n",
    "| Operador | Descripción | \n",
    "|----------|-------------|\n",
    "|     =    | asigna valor a una variable |\n",
    "|    +=    | suma el valor a una variable |\n",
    "|    -=    | resta el valor a una variable |\n",
    "|    \\*=   | multiplica el valor a la variable |\n",
    "|    /=    | divide el valor a la variable |\n",
    "|    \\* \\* | calcula el exponente del valor de la variable |\n",
    "|    //=   | calcula la división entera del valor de la variable |\n",
    "|    %=    | devuelve el residuo de la división del valor de la variable |"
   ]
  },
  {
   "cell_type": "markdown",
   "metadata": {},
   "source": [
    "### Operadores relacionales \n",
    "Permiten comparar dos variables y como resultado tendremos un booleano\n",
    "\n",
    "| Operador | Descripción |\n",
    "|----------|-------------|\n",
    "|    ==    | ¿son iguales a y b? |\n",
    "|    !=    | ¿son distintos a y b? |\n",
    "|    <     | ¿es a menor que b? | \n",
    "|    >     | ¿es a mayor que b? |\n",
    "|    <=    | ¿es a manor o igual que b?|\n",
    "|    >=    | ¿es a mayor o igual que b? | "
   ]
  },
  {
   "cell_type": "code",
   "execution_count": null,
   "metadata": {},
   "outputs": [],
   "source": []
  }
 ],
 "metadata": {
  "kernelspec": {
   "display_name": "Python 3",
   "language": "python",
   "name": "python3"
  },
  "language_info": {
   "codemirror_mode": {
    "name": "ipython",
    "version": 3
   },
   "file_extension": ".py",
   "mimetype": "text/x-python",
   "name": "python",
   "nbconvert_exporter": "python",
   "pygments_lexer": "ipython3",
   "version": "3.8.3"
  }
 },
 "nbformat": 4,
 "nbformat_minor": 4
}
