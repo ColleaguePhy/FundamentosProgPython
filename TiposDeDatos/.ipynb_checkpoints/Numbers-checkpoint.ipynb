{
 "cells": [
  {
   "cell_type": "markdown",
   "metadata": {},
   "source": [
    "### Tipos de datos: Numbers"
   ]
  },
  {
   "cell_type": "markdown",
   "metadata": {},
   "source": [
    "#### Numbers\n",
    "En Python encontramos diferentes tipos de números, y cada uno es por si un tipo de dato con su propio tratamiento.\n",
    "\n",
    "#### Integers\n",
    "Son los enteros de toda la vida. A los cuales les podemos aplicar las siguientes operaciones\n",
    "* **Suma** -> +\n",
    "* **Resta** -> -\n",
    "* **Multiplicación** -> *\n",
    "* **División** -> /\n",
    "* **Potenciación** -> * *, también se puede usar para calcular raices.\n",
    "* **División entera** -> //, el resultado de la división se aproxima al entero inmediatamente anterior.\n",
    "* **Modulo** -> %, es el residuo de la división.\n",
    "\n",
    "\n",
    "**Nota:** Tambien encontramos los *long* que nos permite almacenar tan extensos como espacio en memoria tengamos."
   ]
  },
  {
   "cell_type": "code",
   "execution_count": 1,
   "metadata": {},
   "outputs": [
    {
     "name": "stdout",
     "output_type": "stream",
     "text": [
      "Suma ->  10 + 3 = 13\n",
      "Resta -> 10 - 3 = 7\n",
      "Multiplicación ->  10 * 3 = 30\n",
      "División ->  10 / 3 = 3.3333333333333335\n",
      "Potenciación ->  10 ** 3 = 1000\n",
      "Raices ->  10 ** 0.3333333333333333 = 2.154434690031884\n",
      "División entera -> 10 // 3 = 3\n",
      "Modulo -> 10 % 3 = 1\n"
     ]
    }
   ],
   "source": [
    "#Define the variables\n",
    "number1 = 10\n",
    "number2 = 3\n",
    "\n",
    "print('Suma -> ', number1 , '+', number2 , '=' ,number1 + number2)\n",
    "print('Resta ->', number1 , '-', number2 , '=', number1 - number2)\n",
    "print('Multiplicación -> ',  number1 , '*', number2 , '=', number1 * number2)\n",
    "print('División -> ', number1 , '/', number2 , '=', number1 / number2)\n",
    "print('Potenciación -> ', number1 , '**', number2 , '=', number1 ** number2)\n",
    "print('Raices -> ', number1 , '**', (1/number2) , '=', number1 ** (1/number2))\n",
    "print('División entera ->',  number1 , '//', number2 , '=', number1 // number2)\n",
    "print('Modulo ->',  number1 , '%', number2 , '=', number1 % number2)"
   ]
  },
  {
   "cell_type": "markdown",
   "metadata": {},
   "source": [
    "#### Floats\n",
    "Es cualquier número con punto decimal. El punto puede aparecer en cualquier posición del número. Podemos realizar exactamente las mismas operaciones de los **integers**"
   ]
  },
  {
   "cell_type": "code",
   "execution_count": 2,
   "metadata": {
    "scrolled": true
   },
   "outputs": [
    {
     "name": "stdout",
     "output_type": "stream",
     "text": [
      "Suma ->  8.5 + 0.05 = 8.55\n",
      "Resta -> 8.5 - 0.05 = 8.45\n",
      "Multiplicación ->  8.5 * 0.05 = 0.42500000000000004\n",
      "División ->  8.5 / 0.05 = 170.0\n",
      "Potenciación ->  8.5 ** 0.05 = 1.1129379362664853\n",
      "Raices ->  8.5 ** 20.0 = 3.8759531084514355e+18\n",
      "División entera -> 8.5 // 0.05 = 169.0\n",
      "Modulo -> 8.5 % 0.05 = 0.04999999999999953\n"
     ]
    }
   ],
   "source": [
    "#Define the variables\n",
    "number3 = 8.5\n",
    "number4 = 0.05\n",
    "\n",
    "print('Suma -> ', number3 , '+', number4 , '=' ,number3 + number4)\n",
    "print('Resta ->', number3 , '-', number4 , '=', number3 - number4)\n",
    "print('Multiplicación -> ',  number3 , '*', number4 , '=', number3 * number4)\n",
    "print('División -> ', number3 , '/', number4 , '=', number3 / number4)\n",
    "print('Potenciación -> ', number3 , '**', number4 , '=', number3 ** number4)\n",
    "print('Raices -> ', number3 , '**', (1/number4) , '=', number3 ** (1/number4))\n",
    "print('División entera ->',  number3 , '//', number4 , '=', number3 // number4)\n",
    "print('Modulo ->',  number3 , '%', number4 , '=', number3 % number4)"
   ]
  },
  {
   "cell_type": "markdown",
   "metadata": {},
   "source": [
    "#### Complex\n",
    "Son aquellos númeross que tiene una parte imaginaria. La parte imaginaria se expresa con una 'j'"
   ]
  },
  {
   "cell_type": "code",
   "execution_count": 3,
   "metadata": {},
   "outputs": [
    {
     "name": "stdout",
     "output_type": "stream",
     "text": [
      "(1+1j) (2+0.2j) (10+3j) (10+8.5j)\n"
     ]
    }
   ],
   "source": [
    "# Como definir complejos \n",
    "complex1 = 1 + 1j\n",
    "complex2 = 2.0 + .2j\n",
    "\n",
    "#Complejos a partir de enteros y flotantes\n",
    "complex3 = complex(number1,number2)\n",
    "complex4 = complex(number1,number3)\n",
    "\n",
    "print(complex1,complex2,complex3,complex4)"
   ]
  },
  {
   "cell_type": "markdown",
   "metadata": {},
   "source": [
    "###### Operaciones\n",
    "* **suma** -> +\n",
    "* **Resta** -> -\n",
    "* **Producto escalar** -> *\n",
    "* **Multiplicación** -> *\n",
    "* **División** -> /"
   ]
  },
  {
   "cell_type": "code",
   "execution_count": 4,
   "metadata": {},
   "outputs": [
    {
     "name": "stdout",
     "output_type": "stream",
     "text": [
      "suma -> (1+1j) + (2+0.2j) = (3+1.2j)\n",
      "Resta -> (1+1j) - (2+0.2j) = (-1+0.8j)\n",
      "Producto escalar -> 3 * (1+1j) = (3+3j)\n",
      "Multiplicación -> (1+1j) * (2+0.2j) = (1.8+2.2j)\n",
      "División -> (1+1j) / (2+0.2j) = (0.5445544554455446+0.44554455445544555j)\n"
     ]
    }
   ],
   "source": [
    "print('suma ->', str(complex1), '+', str(complex2) , '=', complex1 + complex2)\n",
    "print('Resta ->', str(complex1), '-', str(complex2) , '=', complex1 - complex2)\n",
    "print('Producto escalar ->', str(3), '*', str(complex1) , '=', 3 * complex1)\n",
    "print('Multiplicación ->', str(complex1), '*', str(complex2) , '=', complex1 * complex2)\n",
    "print('División ->', str(complex1), '/', str(complex2) , '=', complex1 / complex2)"
   ]
  },
  {
   "cell_type": "code",
   "execution_count": 5,
   "metadata": {},
   "outputs": [],
   "source": [
    "string1 = '1'"
   ]
  },
  {
   "cell_type": "markdown",
   "metadata": {},
   "source": [
    "#### Cambiar el tipo de dato"
   ]
  },
  {
   "cell_type": "code",
   "execution_count": 6,
   "metadata": {},
   "outputs": [
    {
     "name": "stdout",
     "output_type": "stream",
     "text": [
      "integers to floats\n",
      "10 <class 'int'> a 10.0 <class 'float'>\n"
     ]
    }
   ],
   "source": [
    "print('integers to floats')\n",
    "print(number1,type(number1), 'a' , float(number1), type(float(number1)))"
   ]
  },
  {
   "cell_type": "code",
   "execution_count": 7,
   "metadata": {},
   "outputs": [
    {
     "name": "stdout",
     "output_type": "stream",
     "text": [
      "Integers to strings\n",
      "10 <class 'int'> a 10 <class 'str'>\n"
     ]
    }
   ],
   "source": [
    "print('Integers to strings')\n",
    "print(number1,type(number1), 'a' , str(number1), type(str(number1)))"
   ]
  },
  {
   "cell_type": "code",
   "execution_count": 8,
   "metadata": {},
   "outputs": [
    {
     "name": "stdout",
     "output_type": "stream",
     "text": [
      "Floats to strings\n",
      "8.5 <class 'float'> a 8.5 <class 'str'>\n"
     ]
    }
   ],
   "source": [
    "print('Floats to strings')\n",
    "print(number3,type(number3), 'a' , str(number3), type(str(number3)))"
   ]
  },
  {
   "cell_type": "code",
   "execution_count": 9,
   "metadata": {},
   "outputs": [
    {
     "name": "stdout",
     "output_type": "stream",
     "text": [
      "String to integers\n",
      "1 <class 'str'> a 1 <class 'int'>\n"
     ]
    }
   ],
   "source": [
    "print('String to integers')\n",
    "print(string1,type(string1),'a', int(string1), type(int(string1)))"
   ]
  },
  {
   "cell_type": "code",
   "execution_count": 10,
   "metadata": {},
   "outputs": [
    {
     "name": "stdout",
     "output_type": "stream",
     "text": [
      "String to floats\n",
      "1 <class 'str'> a 1.0 <class 'float'>\n"
     ]
    }
   ],
   "source": [
    "print('String to floats')\n",
    "print(string1,type(string1),'a', float(string1), type(float(string1)))"
   ]
  },
  {
   "cell_type": "code",
   "execution_count": 11,
   "metadata": {},
   "outputs": [
    {
     "name": "stdout",
     "output_type": "stream",
     "text": [
      "Int to complex\n",
      "10 <class 'int'> a (10+0j) <class 'complex'>\n"
     ]
    }
   ],
   "source": [
    "print('Int to complex')\n",
    "print(number1,type(number1), 'a', complex(number1), type(complex(number1)))"
   ]
  },
  {
   "cell_type": "code",
   "execution_count": 12,
   "metadata": {},
   "outputs": [
    {
     "name": "stdout",
     "output_type": "stream",
     "text": [
      "floats to complex\n",
      "8.5 <class 'float'> a (8.5+0j) <class 'complex'>\n"
     ]
    }
   ],
   "source": [
    "print('floats to complex')\n",
    "print(number3,type(number3), 'a', complex(number3), type(complex(number3)))"
   ]
  },
  {
   "cell_type": "code",
   "execution_count": 13,
   "metadata": {},
   "outputs": [
    {
     "name": "stdout",
     "output_type": "stream",
     "text": [
      "string to complex\n",
      "1 <class 'str'> a (1+0j) <class 'complex'>\n"
     ]
    }
   ],
   "source": [
    "print('string to complex')\n",
    "print(string1,type(string1), 'a', complex(string1), type(complex(string1)))"
   ]
  },
  {
   "cell_type": "markdown",
   "metadata": {},
   "source": [
    "#### Algunos metodos "
   ]
  },
  {
   "cell_type": "markdown",
   "metadata": {},
   "source": [
    "* **round()** -> Redondea un número a la precisión dada, por defecto es cero"
   ]
  },
  {
   "cell_type": "code",
   "execution_count": 14,
   "metadata": {},
   "outputs": [
    {
     "data": {
      "text/plain": [
       "1.25"
      ]
     },
     "execution_count": 14,
     "metadata": {},
     "output_type": "execute_result"
    }
   ],
   "source": [
    "round(1.2452352,2)"
   ]
  },
  {
   "cell_type": "markdown",
   "metadata": {},
   "source": [
    "* **max()** -> Recibe varios argumentos de tipo *int* o  *float* y devuelve el mayor de ellos"
   ]
  },
  {
   "cell_type": "code",
   "execution_count": 15,
   "metadata": {},
   "outputs": [
    {
     "data": {
      "text/plain": [
       "12"
      ]
     },
     "execution_count": 15,
     "metadata": {},
     "output_type": "execute_result"
    }
   ],
   "source": [
    "max(12,4.5,10,2)"
   ]
  },
  {
   "cell_type": "markdown",
   "metadata": {},
   "source": [
    "* **min()** -> Recibe varios argumentos de tipo int o float y devuelve el menor de ellos"
   ]
  },
  {
   "cell_type": "code",
   "execution_count": 16,
   "metadata": {},
   "outputs": [
    {
     "data": {
      "text/plain": [
       "2"
      ]
     },
     "execution_count": 16,
     "metadata": {},
     "output_type": "execute_result"
    }
   ],
   "source": [
    "min(12,4.5,10,2)"
   ]
  },
  {
   "cell_type": "markdown",
   "metadata": {},
   "source": [
    "* **pow()** -> Recibe dos argumentos, eleva el primer argumento a la potencia del segundo"
   ]
  },
  {
   "cell_type": "code",
   "execution_count": 17,
   "metadata": {},
   "outputs": [
    {
     "data": {
      "text/plain": [
       "5.0"
      ]
     },
     "execution_count": 17,
     "metadata": {},
     "output_type": "execute_result"
    }
   ],
   "source": [
    "pow(25,0.5) "
   ]
  },
  {
   "cell_type": "code",
   "execution_count": 18,
   "metadata": {},
   "outputs": [
    {
     "data": {
      "text/plain": [
       "0"
      ]
     },
     "execution_count": 18,
     "metadata": {},
     "output_type": "execute_result"
    }
   ],
   "source": [
    "# Puede recibir un tercer argumento, en ese caso devuelve pow(x,y)%z\n",
    "pow(2,3,2)"
   ]
  },
  {
   "cell_type": "markdown",
   "metadata": {},
   "source": [
    "* **divmod()** -> Recibe dos argumentos y devuelve el resultado de la división entera y su resto"
   ]
  },
  {
   "cell_type": "code",
   "execution_count": 19,
   "metadata": {},
   "outputs": [
    {
     "data": {
      "text/plain": [
       "(3, 1)"
      ]
     },
     "execution_count": 19,
     "metadata": {},
     "output_type": "execute_result"
    }
   ],
   "source": [
    "divmod(10,3) #10//3, 10%3"
   ]
  },
  {
   "cell_type": "markdown",
   "metadata": {},
   "source": [
    "* **hex()** -> Devuelve la representación hexadecimal de un númer entero"
   ]
  },
  {
   "cell_type": "code",
   "execution_count": 20,
   "metadata": {},
   "outputs": [
    {
     "data": {
      "text/plain": [
       "'0x103'"
      ]
     },
     "execution_count": 20,
     "metadata": {},
     "output_type": "execute_result"
    }
   ],
   "source": [
    "hex(259)"
   ]
  },
  {
   "cell_type": "markdown",
   "metadata": {},
   "source": [
    "* **conjugate()** -> Conjugado de un numero complejo"
   ]
  },
  {
   "cell_type": "code",
   "execution_count": 21,
   "metadata": {},
   "outputs": [
    {
     "data": {
      "text/plain": [
       "(1-1j)"
      ]
     },
     "execution_count": 21,
     "metadata": {},
     "output_type": "execute_result"
    }
   ],
   "source": [
    "complex1.conjugate()"
   ]
  },
  {
   "cell_type": "markdown",
   "metadata": {},
   "source": [
    "* **abs()** -> magnitud de un número complejo"
   ]
  },
  {
   "cell_type": "code",
   "execution_count": 22,
   "metadata": {},
   "outputs": [
    {
     "data": {
      "text/plain": [
       "1.4142135623730951"
      ]
     },
     "execution_count": 22,
     "metadata": {},
     "output_type": "execute_result"
    }
   ],
   "source": [
    "abs(complex1)"
   ]
  },
  {
   "cell_type": "markdown",
   "metadata": {},
   "source": [
    "* **real** -> Parte real de un número complejo"
   ]
  },
  {
   "cell_type": "code",
   "execution_count": 23,
   "metadata": {},
   "outputs": [
    {
     "data": {
      "text/plain": [
       "1.0"
      ]
     },
     "execution_count": 23,
     "metadata": {},
     "output_type": "execute_result"
    }
   ],
   "source": [
    "complex1.real"
   ]
  },
  {
   "cell_type": "markdown",
   "metadata": {},
   "source": [
    "* **imag**  -> Parte imaginaria de un número complejo"
   ]
  },
  {
   "cell_type": "code",
   "execution_count": 24,
   "metadata": {},
   "outputs": [
    {
     "data": {
      "text/plain": [
       "1.0"
      ]
     },
     "execution_count": 24,
     "metadata": {},
     "output_type": "execute_result"
    }
   ],
   "source": [
    "complex1.imag"
   ]
  },
  {
   "cell_type": "markdown",
   "metadata": {},
   "source": [
    "### Sistema Hexadecimal\n",
    "Sistema númerico con base 16. Toma los 10 digitos y las cinco primeras letras.\n",
    "\n",
    "|Hexadecimal|Decimal|\n",
    "|-----------|-------|\n",
    "|0|0|\n",
    "|1|1|\n",
    "|2|2|\n",
    "|3|3|\n",
    "|4|4|\n",
    "|5|5|\n",
    "|6|6|\n",
    "|7|7|\n",
    "|8|8|\n",
    "|9|9|\n",
    "|a|10|\n",
    "|b|11|\n",
    "|c|12|\n",
    "|d|13|\n",
    "|e|14|\n",
    "|f|15|"
   ]
  },
  {
   "cell_type": "markdown",
   "metadata": {},
   "source": [
    "De hexadecimal a decimal\n",
    "\n",
    "3E --> E*(16^0) +  3*(16^1) = 14 + 48 = 62"
   ]
  },
  {
   "cell_type": "code",
   "execution_count": 1,
   "metadata": {},
   "outputs": [
    {
     "data": {
      "text/plain": [
       "'0x3e'"
      ]
     },
     "execution_count": 1,
     "metadata": {},
     "output_type": "execute_result"
    }
   ],
   "source": [
    "hex(62)"
   ]
  },
  {
   "cell_type": "code",
   "execution_count": null,
   "metadata": {},
   "outputs": [],
   "source": []
  }
 ],
 "metadata": {
  "kernelspec": {
   "display_name": "Python 3",
   "language": "python",
   "name": "python3"
  },
  "language_info": {
   "codemirror_mode": {
    "name": "ipython",
    "version": 3
   },
   "file_extension": ".py",
   "mimetype": "text/x-python",
   "name": "python",
   "nbconvert_exporter": "python",
   "pygments_lexer": "ipython3",
   "version": "3.8.3"
  }
 },
 "nbformat": 4,
 "nbformat_minor": 4
}
